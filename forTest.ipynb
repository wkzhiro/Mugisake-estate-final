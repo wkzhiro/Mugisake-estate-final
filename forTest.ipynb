{
 "cells": [
  {
   "cell_type": "markdown",
   "id": "7fad016e",
   "metadata": {},
   "source": [
    "## 差分更新"
   ]
  },
  {
   "cell_type": "code",
   "execution_count": 11,
   "id": "962601fe",
   "metadata": {},
   "outputs": [],
   "source": [
    "import pandas as pd\n",
    "df1 = pd.read_csv('/Users/AonoKazushi/Desktop/Mugisake_KA01 - sheet9.csv')\n",
    "df2 = pd.read_csv('/Users/AonoKazushi/Desktop/Mugisake_KA01 - sheet92.csv')"
   ]
  },
  {
   "cell_type": "code",
   "execution_count": 16,
   "id": "aea6c866",
   "metadata": {},
   "outputs": [],
   "source": [
    "col = 'url'"
   ]
  },
  {
   "cell_type": "code",
   "execution_count": 17,
   "id": "4e773444",
   "metadata": {},
   "outputs": [],
   "source": [
    "df1_only = df1[~df1[col].isin(df2[col])]\n",
    "df2_only = df2[~df2[col].isin(df1[col])]"
   ]
  },
  {
   "cell_type": "code",
   "execution_count": 20,
   "id": "a3896b70",
   "metadata": {},
   "outputs": [
    {
     "data": {
      "text/html": [
       "<div>\n",
       "<style scoped>\n",
       "    .dataframe tbody tr th:only-of-type {\n",
       "        vertical-align: middle;\n",
       "    }\n",
       "\n",
       "    .dataframe tbody tr th {\n",
       "        vertical-align: top;\n",
       "    }\n",
       "\n",
       "    .dataframe thead th {\n",
       "        text-align: right;\n",
       "    }\n",
       "</style>\n",
       "<table border=\"1\" class=\"dataframe\">\n",
       "  <thead>\n",
       "    <tr style=\"text-align: right;\">\n",
       "      <th></th>\n",
       "      <th>level_0</th>\n",
       "      <th>index</th>\n",
       "      <th>_id</th>\n",
       "      <th>name</th>\n",
       "      <th>price</th>\n",
       "      <th>price_kanri</th>\n",
       "      <th>price_tsumitate</th>\n",
       "      <th>layout</th>\n",
       "      <th>area</th>\n",
       "      <th>age</th>\n",
       "      <th>...</th>\n",
       "      <th>traffic</th>\n",
       "      <th>traffic_tx</th>\n",
       "      <th>url</th>\n",
       "      <th>Keido</th>\n",
       "      <th>Ido</th>\n",
       "      <th>train_station</th>\n",
       "      <th>time_walk</th>\n",
       "      <th>price_pred</th>\n",
       "      <th>predicted_price</th>\n",
       "      <th>discounted_price</th>\n",
       "    </tr>\n",
       "  </thead>\n",
       "  <tbody>\n",
       "    <tr>\n",
       "      <th>864</th>\n",
       "      <td>864</td>\n",
       "      <td>0</td>\n",
       "      <td>63ccf8ced3de257746e328eakaz</td>\n",
       "      <td>青野ビル</td>\n",
       "      <td>56800000</td>\n",
       "      <td>15200</td>\n",
       "      <td>13930</td>\n",
       "      <td>4LDK</td>\n",
       "      <td>87.06</td>\n",
       "      <td>2017</td>\n",
       "      <td>...</td>\n",
       "      <td>東京メトロ千代田線「北綾瀬」歩10分</td>\n",
       "      <td>つくばエクスプレス「六町」歩9分</td>\n",
       "      <td>https://suumo.jp/ms/chuko/tokyo/sc_adachi/nc_7...</td>\n",
       "      <td>139.826294</td>\n",
       "      <td>35.780365</td>\n",
       "      <td>六町</td>\n",
       "      <td>9</td>\n",
       "      <td>64731618.18</td>\n",
       "      <td>53414500</td>\n",
       "      <td>-3385500</td>\n",
       "    </tr>\n",
       "  </tbody>\n",
       "</table>\n",
       "<p>1 rows × 24 columns</p>\n",
       "</div>"
      ],
      "text/plain": [
       "     level_0  index                          _id  name     price  price_kanri  \\\n",
       "864      864      0  63ccf8ced3de257746e328eakaz  青野ビル  56800000        15200   \n",
       "\n",
       "     price_tsumitate layout   area   age  ...             traffic  \\\n",
       "864            13930   4LDK  87.06  2017  ...  東京メトロ千代田線「北綾瀬」歩10分   \n",
       "\n",
       "           traffic_tx                                                url  \\\n",
       "864  つくばエクスプレス「六町」歩9分  https://suumo.jp/ms/chuko/tokyo/sc_adachi/nc_7...   \n",
       "\n",
       "          Keido        Ido train_station time_walk   price_pred  \\\n",
       "864  139.826294  35.780365            六町         9  64731618.18   \n",
       "\n",
       "     predicted_price discounted_price  \n",
       "864         53414500         -3385500  \n",
       "\n",
       "[1 rows x 24 columns]"
      ]
     },
     "execution_count": 20,
     "metadata": {},
     "output_type": "execute_result"
    }
   ],
   "source": [
    "df2_only"
   ]
  },
  {
   "cell_type": "code",
   "execution_count": 59,
   "id": "388db65a",
   "metadata": {},
   "outputs": [],
   "source": [
    "df3 = pd.read_csv('/Users/AonoKazushi/Desktop/Mugisake_KA01 - sheet1.csv')\n",
    "df4 = pd.read_csv('/Users/AonoKazushi/Desktop/Mugisake_KA01 - sheet1First.csv')"
   ]
  },
  {
   "cell_type": "code",
   "execution_count": 60,
   "id": "034f423b",
   "metadata": {},
   "outputs": [],
   "source": [
    "col = 'url'\n",
    "df3_only = df3[~df3[col].isin(df4[col])]\n",
    "df4_only = df4[~df4[col].isin(df3[col])]"
   ]
  },
  {
   "cell_type": "code",
   "execution_count": 61,
   "id": "62526c7d",
   "metadata": {},
   "outputs": [
    {
     "data": {
      "text/plain": [
       "448"
      ]
     },
     "execution_count": 61,
     "metadata": {},
     "output_type": "execute_result"
    }
   ],
   "source": [
    "len(df3_only)"
   ]
  },
  {
   "cell_type": "code",
   "execution_count": 62,
   "id": "719f474b",
   "metadata": {},
   "outputs": [
    {
     "data": {
      "text/plain": [
       "Int64Index([  0,   2,   6,   7,  10,  12,  15,  16,  18,  19,\n",
       "            ...\n",
       "            909, 913, 914, 915, 916, 917, 919, 921, 924, 925],\n",
       "           dtype='int64', length=448)"
      ]
     },
     "execution_count": 62,
     "metadata": {},
     "output_type": "execute_result"
    }
   ],
   "source": [
    "df3_index = df3[~df3[col].isin(df4[col])].index\n",
    "df3_index"
   ]
  },
  {
   "cell_type": "code",
   "execution_count": 63,
   "id": "cd6854ab",
   "metadata": {},
   "outputs": [],
   "source": [
    "import datetime\n",
    "\n",
    "date_format = '%Y/%m/%d'\n",
    "today = datetime.datetime.now().strftime(date_format)"
   ]
  },
  {
   "cell_type": "code",
   "execution_count": 64,
   "id": "0b14db06",
   "metadata": {},
   "outputs": [
    {
     "data": {
      "text/plain": [
       "'https://suumo.jp/ms/chuko/tokyo/sc_adachi/nc_71062606/'"
      ]
     },
     "execution_count": 64,
     "metadata": {},
     "output_type": "execute_result"
    }
   ],
   "source": [
    "df3.loc[4,'url']"
   ]
  },
  {
   "cell_type": "code",
   "execution_count": 74,
   "id": "a3a35987",
   "metadata": {},
   "outputs": [
    {
     "data": {
      "text/plain": [
       "'五反野スカイハイツ \\u3000【マンション】'"
      ]
     },
     "execution_count": 74,
     "metadata": {},
     "output_type": "execute_result"
    }
   ],
   "source": [
    "indices = df4.index[df4['url'].isin([df3.loc[4,'url']])]\n",
    "df4.loc[indices,'name'][2]"
   ]
  },
  {
   "cell_type": "code",
   "execution_count": 76,
   "id": "48f983ed",
   "metadata": {},
   "outputs": [],
   "source": [
    "for i, row in df3.iterrows():\n",
    "    if i in df3_index:\n",
    "        df3.loc[i, 'name'] = today\n",
    "    else:\n",
    "        indices = df4.index[df4['url'].isin([df3.loc[4,'url']])]\n",
    "        df3.loc[i, 'name'] = df4.loc[indices,'traffic'][2]"
   ]
  },
  {
   "cell_type": "code",
   "execution_count": 77,
   "id": "30f6a254",
   "metadata": {},
   "outputs": [
    {
     "data": {
      "text/html": [
       "<div>\n",
       "<style scoped>\n",
       "    .dataframe tbody tr th:only-of-type {\n",
       "        vertical-align: middle;\n",
       "    }\n",
       "\n",
       "    .dataframe tbody tr th {\n",
       "        vertical-align: top;\n",
       "    }\n",
       "\n",
       "    .dataframe thead th {\n",
       "        text-align: right;\n",
       "    }\n",
       "</style>\n",
       "<table border=\"1\" class=\"dataframe\">\n",
       "  <thead>\n",
       "    <tr style=\"text-align: right;\">\n",
       "      <th></th>\n",
       "      <th>index</th>\n",
       "      <th>_id</th>\n",
       "      <th>name</th>\n",
       "      <th>price</th>\n",
       "      <th>price_kanri</th>\n",
       "      <th>price_tsumitate</th>\n",
       "      <th>layout</th>\n",
       "      <th>area</th>\n",
       "      <th>age</th>\n",
       "      <th>floor</th>\n",
       "      <th>direction</th>\n",
       "      <th>reform</th>\n",
       "      <th>address</th>\n",
       "      <th>traffic</th>\n",
       "      <th>traffic_tx</th>\n",
       "      <th>url</th>\n",
       "    </tr>\n",
       "  </thead>\n",
       "  <tbody>\n",
       "    <tr>\n",
       "      <th>0</th>\n",
       "      <td>0</td>\n",
       "      <td>63fbc68597ceb50574fde71a</td>\n",
       "      <td>2023/03/05</td>\n",
       "      <td>19800000</td>\n",
       "      <td>9210</td>\n",
       "      <td>9600</td>\n",
       "      <td>1LDK</td>\n",
       "      <td>43.47</td>\n",
       "      <td>1981年4月</td>\n",
       "      <td>5</td>\n",
       "      <td>西</td>\n",
       "      <td>2023年2月完了</td>\n",
       "      <td>東京都足立区東和５</td>\n",
       "      <td>東京メトロ千代田線「北綾瀬」歩6分</td>\n",
       "      <td>つくばエクスプレス「青井」歩27分</td>\n",
       "      <td>https://suumo.jp/ms/chuko/tokyo/sc_adachi/nc_7...</td>\n",
       "    </tr>\n",
       "    <tr>\n",
       "      <th>1</th>\n",
       "      <td>0</td>\n",
       "      <td>63fbc68697ceb50574fde71b</td>\n",
       "      <td>東武伊勢崎線「五反野」歩11分</td>\n",
       "      <td>20800000</td>\n",
       "      <td>15000</td>\n",
       "      <td>27030</td>\n",
       "      <td>2LDK</td>\n",
       "      <td>57.51</td>\n",
       "      <td>1992年6月</td>\n",
       "      <td>3</td>\n",
       "      <td>西</td>\n",
       "      <td>2018年3月完了</td>\n",
       "      <td>東京都足立区加平２</td>\n",
       "      <td>東京メトロ千代田線「北綾瀬」歩10分</td>\n",
       "      <td>つくばエクスプレス「六町」歩12分</td>\n",
       "      <td>https://suumo.jp/ms/chuko/tokyo/sc_adachi/nc_7...</td>\n",
       "    </tr>\n",
       "    <tr>\n",
       "      <th>2</th>\n",
       "      <td>0</td>\n",
       "      <td>63fbc68897ceb50574fde71c</td>\n",
       "      <td>2023/03/05</td>\n",
       "      <td>21800000</td>\n",
       "      <td>6000</td>\n",
       "      <td>7581</td>\n",
       "      <td>1LDK</td>\n",
       "      <td>40.27</td>\n",
       "      <td>1974年10月</td>\n",
       "      <td>7</td>\n",
       "      <td>南東</td>\n",
       "      <td>2023年1月完了</td>\n",
       "      <td>東京都板橋区東坂下２</td>\n",
       "      <td>東京メトロ千代田線「北千住」歩9分</td>\n",
       "      <td>東京メトロ千代田線「北千住」歩9分</td>\n",
       "      <td>https://suumo.jp/ms/chuko/tokyo/sc_itabashi/nc...</td>\n",
       "    </tr>\n",
       "    <tr>\n",
       "      <th>3</th>\n",
       "      <td>0</td>\n",
       "      <td>63fbc68897ceb50574fde71d</td>\n",
       "      <td>東武伊勢崎線「五反野」歩11分</td>\n",
       "      <td>21900000</td>\n",
       "      <td>11700</td>\n",
       "      <td>5450</td>\n",
       "      <td>1LDK</td>\n",
       "      <td>38.10</td>\n",
       "      <td>1988年4月</td>\n",
       "      <td>6</td>\n",
       "      <td>東</td>\n",
       "      <td>2022年10月完了</td>\n",
       "      <td>東京都足立区梅島１-24-1</td>\n",
       "      <td>東武伊勢崎線「梅島」歩8分</td>\n",
       "      <td>東京メトロ千代田線「北千住」バス8分弥生町歩3分</td>\n",
       "      <td>https://suumo.jp/ms/chuko/tokyo/sc_adachi/nc_7...</td>\n",
       "    </tr>\n",
       "    <tr>\n",
       "      <th>4</th>\n",
       "      <td>0</td>\n",
       "      <td>63fbc68a97ceb50574fde71e</td>\n",
       "      <td>東武伊勢崎線「五反野」歩11分</td>\n",
       "      <td>22800000</td>\n",
       "      <td>8800</td>\n",
       "      <td>4920</td>\n",
       "      <td>2LDK+S（納戸）</td>\n",
       "      <td>58.36</td>\n",
       "      <td>1976年4月</td>\n",
       "      <td>1</td>\n",
       "      <td>南東</td>\n",
       "      <td>2016年6月完了</td>\n",
       "      <td>東京都足立区中央本町３-14-25</td>\n",
       "      <td>東武伊勢崎線「五反野」歩11分</td>\n",
       "      <td>つくばエクスプレス「青井」歩18分</td>\n",
       "      <td>https://suumo.jp/ms/chuko/tokyo/sc_adachi/nc_7...</td>\n",
       "    </tr>\n",
       "    <tr>\n",
       "      <th>...</th>\n",
       "      <td>...</td>\n",
       "      <td>...</td>\n",
       "      <td>...</td>\n",
       "      <td>...</td>\n",
       "      <td>...</td>\n",
       "      <td>...</td>\n",
       "      <td>...</td>\n",
       "      <td>...</td>\n",
       "      <td>...</td>\n",
       "      <td>...</td>\n",
       "      <td>...</td>\n",
       "      <td>...</td>\n",
       "      <td>...</td>\n",
       "      <td>...</td>\n",
       "      <td>...</td>\n",
       "      <td>...</td>\n",
       "    </tr>\n",
       "    <tr>\n",
       "      <th>921</th>\n",
       "      <td>0</td>\n",
       "      <td>63fbcfd297ceb50574fdeab3</td>\n",
       "      <td>2023/03/05</td>\n",
       "      <td>110000000</td>\n",
       "      <td>29200</td>\n",
       "      <td>32850</td>\n",
       "      <td>3LDK+2S（納戸）</td>\n",
       "      <td>115.66</td>\n",
       "      <td>1994年2月</td>\n",
       "      <td>11</td>\n",
       "      <td>南</td>\n",
       "      <td>2017年11月完了</td>\n",
       "      <td>東京都台東区元浅草３</td>\n",
       "      <td>都営大江戸線「新御徒町」歩4分</td>\n",
       "      <td>都営大江戸線「新御徒町」歩4分</td>\n",
       "      <td>https://suumo.jp/ms/chuko/tokyo/sc_taito/nc_71...</td>\n",
       "    </tr>\n",
       "    <tr>\n",
       "      <th>922</th>\n",
       "      <td>0</td>\n",
       "      <td>63fbcfd497ceb50574fdeab4</td>\n",
       "      <td>東武伊勢崎線「五反野」歩11分</td>\n",
       "      <td>128000000</td>\n",
       "      <td>19560</td>\n",
       "      <td>9360</td>\n",
       "      <td>3LDK</td>\n",
       "      <td>71.92</td>\n",
       "      <td>2018年4月</td>\n",
       "      <td>22</td>\n",
       "      <td>北西</td>\n",
       "      <td>-</td>\n",
       "      <td>東京都千代田区神田東松下町</td>\n",
       "      <td>都営新宿線「岩本町」歩1分</td>\n",
       "      <td>東京メトロ日比谷線「秋葉原」歩4分</td>\n",
       "      <td>https://suumo.jp/ms/chuko/tokyo/sc_chiyoda/nc_...</td>\n",
       "    </tr>\n",
       "    <tr>\n",
       "      <th>923</th>\n",
       "      <td>0</td>\n",
       "      <td>63fbcfd597ceb50574fdeab5</td>\n",
       "      <td>東武伊勢崎線「五反野」歩11分</td>\n",
       "      <td>130000000</td>\n",
       "      <td>15240</td>\n",
       "      <td>14280</td>\n",
       "      <td>ワンルーム</td>\n",
       "      <td>72.71</td>\n",
       "      <td>2004年9月</td>\n",
       "      <td>14</td>\n",
       "      <td>東</td>\n",
       "      <td>-</td>\n",
       "      <td>東京都千代田区外神田４</td>\n",
       "      <td>ＪＲ山手線「秋葉原」歩5分</td>\n",
       "      <td>東京メトロ日比谷線「秋葉原」歩7分</td>\n",
       "      <td>https://suumo.jp/ms/chuko/tokyo/sc_chiyoda/nc_...</td>\n",
       "    </tr>\n",
       "    <tr>\n",
       "      <th>924</th>\n",
       "      <td>0</td>\n",
       "      <td>63fbcfd697ceb50574fdeab6</td>\n",
       "      <td>2023/03/05</td>\n",
       "      <td>180000000</td>\n",
       "      <td>14160</td>\n",
       "      <td>13300</td>\n",
       "      <td>2LDK</td>\n",
       "      <td>67.69</td>\n",
       "      <td>2004年9月</td>\n",
       "      <td>28</td>\n",
       "      <td>南</td>\n",
       "      <td>-</td>\n",
       "      <td>東京都千代田区外神田４</td>\n",
       "      <td>ＪＲ山手線「秋葉原」歩5分</td>\n",
       "      <td>東京メトロ日比谷線「秋葉原」歩8分</td>\n",
       "      <td>https://suumo.jp/ms/chuko/tokyo/sc_chiyoda/nc_...</td>\n",
       "    </tr>\n",
       "    <tr>\n",
       "      <th>925</th>\n",
       "      <td>0</td>\n",
       "      <td>63fbcfd797ceb50574fdeab7</td>\n",
       "      <td>2023/03/05</td>\n",
       "      <td>81800000</td>\n",
       "      <td>19500</td>\n",
       "      <td>17110</td>\n",
       "      <td>3LDK</td>\n",
       "      <td>76.72</td>\n",
       "      <td>2010年1月</td>\n",
       "      <td>8</td>\n",
       "      <td>南</td>\n",
       "      <td>-</td>\n",
       "      <td>東京都荒川区南千住７</td>\n",
       "      <td>東京メトロ日比谷線「南千住」歩1分</td>\n",
       "      <td>東京メトロ日比谷線「南千住」歩1分</td>\n",
       "      <td>https://suumo.jp/ms/chuko/tokyo/sc_arakawa/nc_...</td>\n",
       "    </tr>\n",
       "  </tbody>\n",
       "</table>\n",
       "<p>926 rows × 16 columns</p>\n",
       "</div>"
      ],
      "text/plain": [
       "     index                       _id             name      price  price_kanri  \\\n",
       "0        0  63fbc68597ceb50574fde71a       2023/03/05   19800000         9210   \n",
       "1        0  63fbc68697ceb50574fde71b  東武伊勢崎線「五反野」歩11分   20800000        15000   \n",
       "2        0  63fbc68897ceb50574fde71c       2023/03/05   21800000         6000   \n",
       "3        0  63fbc68897ceb50574fde71d  東武伊勢崎線「五反野」歩11分   21900000        11700   \n",
       "4        0  63fbc68a97ceb50574fde71e  東武伊勢崎線「五反野」歩11分   22800000         8800   \n",
       "..     ...                       ...              ...        ...          ...   \n",
       "921      0  63fbcfd297ceb50574fdeab3       2023/03/05  110000000        29200   \n",
       "922      0  63fbcfd497ceb50574fdeab4  東武伊勢崎線「五反野」歩11分  128000000        19560   \n",
       "923      0  63fbcfd597ceb50574fdeab5  東武伊勢崎線「五反野」歩11分  130000000        15240   \n",
       "924      0  63fbcfd697ceb50574fdeab6       2023/03/05  180000000        14160   \n",
       "925      0  63fbcfd797ceb50574fdeab7       2023/03/05   81800000        19500   \n",
       "\n",
       "     price_tsumitate       layout    area       age  floor direction  \\\n",
       "0               9600         1LDK   43.47   1981年4月      5         西   \n",
       "1              27030         2LDK   57.51   1992年6月      3         西   \n",
       "2               7581         1LDK   40.27  1974年10月      7        南東   \n",
       "3               5450         1LDK   38.10   1988年4月      6         東   \n",
       "4               4920   2LDK+S（納戸）   58.36   1976年4月      1        南東   \n",
       "..               ...          ...     ...       ...    ...       ...   \n",
       "921            32850  3LDK+2S（納戸）  115.66   1994年2月     11         南   \n",
       "922             9360         3LDK   71.92   2018年4月     22        北西   \n",
       "923            14280        ワンルーム   72.71   2004年9月     14         東   \n",
       "924            13300         2LDK   67.69   2004年9月     28         南   \n",
       "925            17110         3LDK   76.72   2010年1月      8         南   \n",
       "\n",
       "         reform            address             traffic  \\\n",
       "0     2023年2月完了          東京都足立区東和５   東京メトロ千代田線「北綾瀬」歩6分   \n",
       "1     2018年3月完了          東京都足立区加平２  東京メトロ千代田線「北綾瀬」歩10分   \n",
       "2     2023年1月完了         東京都板橋区東坂下２   東京メトロ千代田線「北千住」歩9分   \n",
       "3    2022年10月完了     東京都足立区梅島１-24-1       東武伊勢崎線「梅島」歩8分   \n",
       "4     2016年6月完了  東京都足立区中央本町３-14-25     東武伊勢崎線「五反野」歩11分   \n",
       "..          ...                ...                 ...   \n",
       "921  2017年11月完了         東京都台東区元浅草３     都営大江戸線「新御徒町」歩4分   \n",
       "922           -      東京都千代田区神田東松下町       都営新宿線「岩本町」歩1分   \n",
       "923           -        東京都千代田区外神田４       ＪＲ山手線「秋葉原」歩5分   \n",
       "924           -        東京都千代田区外神田４       ＪＲ山手線「秋葉原」歩5分   \n",
       "925           -         東京都荒川区南千住７   東京メトロ日比谷線「南千住」歩1分   \n",
       "\n",
       "                   traffic_tx  \\\n",
       "0           つくばエクスプレス「青井」歩27分   \n",
       "1           つくばエクスプレス「六町」歩12分   \n",
       "2           東京メトロ千代田線「北千住」歩9分   \n",
       "3    東京メトロ千代田線「北千住」バス8分弥生町歩3分   \n",
       "4           つくばエクスプレス「青井」歩18分   \n",
       "..                        ...   \n",
       "921           都営大江戸線「新御徒町」歩4分   \n",
       "922         東京メトロ日比谷線「秋葉原」歩4分   \n",
       "923         東京メトロ日比谷線「秋葉原」歩7分   \n",
       "924         東京メトロ日比谷線「秋葉原」歩8分   \n",
       "925         東京メトロ日比谷線「南千住」歩1分   \n",
       "\n",
       "                                                   url  \n",
       "0    https://suumo.jp/ms/chuko/tokyo/sc_adachi/nc_7...  \n",
       "1    https://suumo.jp/ms/chuko/tokyo/sc_adachi/nc_7...  \n",
       "2    https://suumo.jp/ms/chuko/tokyo/sc_itabashi/nc...  \n",
       "3    https://suumo.jp/ms/chuko/tokyo/sc_adachi/nc_7...  \n",
       "4    https://suumo.jp/ms/chuko/tokyo/sc_adachi/nc_7...  \n",
       "..                                                 ...  \n",
       "921  https://suumo.jp/ms/chuko/tokyo/sc_taito/nc_71...  \n",
       "922  https://suumo.jp/ms/chuko/tokyo/sc_chiyoda/nc_...  \n",
       "923  https://suumo.jp/ms/chuko/tokyo/sc_chiyoda/nc_...  \n",
       "924  https://suumo.jp/ms/chuko/tokyo/sc_chiyoda/nc_...  \n",
       "925  https://suumo.jp/ms/chuko/tokyo/sc_arakawa/nc_...  \n",
       "\n",
       "[926 rows x 16 columns]"
      ]
     },
     "execution_count": 77,
     "metadata": {},
     "output_type": "execute_result"
    }
   ],
   "source": [
    "df3"
   ]
  },
  {
   "cell_type": "code",
   "execution_count": 164,
   "id": "13b93291",
   "metadata": {},
   "outputs": [],
   "source": [
    "df = pd.read_csv('/Users/AonoKazushi/Downloads/Mugisake_KA01 - sheet11.csv')\n",
    "df2 = pd.read_csv('/Users/AonoKazushi/Downloads/Mugisake_KA01 - sheet2.csv')"
   ]
  },
  {
   "cell_type": "code",
   "execution_count": 165,
   "id": "e187277d",
   "metadata": {},
   "outputs": [
    {
     "data": {
      "text/plain": [
       "Int64Index([  0,   2,   6,   7,  10,  12,  15,  16,  18,  19,\n",
       "            ...\n",
       "            909, 913, 914, 915, 916, 917, 919, 921, 924, 925],\n",
       "           dtype='int64', length=448)"
      ]
     },
     "execution_count": 165,
     "metadata": {},
     "output_type": "execute_result"
    }
   ],
   "source": [
    "import datetime\n",
    "#指定の列をキーにして新しくデータに入ったindexを検出する\n",
    "col = 'url'\n",
    "df_index = df[~df[col].isin(df2[col])].index\n",
    "df_index"
   ]
  },
  {
   "cell_type": "code",
   "execution_count": 171,
   "id": "592f2060",
   "metadata": {},
   "outputs": [
    {
     "data": {
      "text/plain": [
       "'2023/03/05'"
      ]
     },
     "execution_count": 171,
     "metadata": {},
     "output_type": "execute_result"
    }
   ],
   "source": [
    "#カレンダーのフォーマット指定して本日の日付を取得\n",
    "date_format = '%Y/%m/%d'\n",
    "today = datetime.datetime.now().strftime(date_format)\n",
    "today"
   ]
  },
  {
   "cell_type": "code",
   "execution_count": 172,
   "id": "8438e4c2",
   "metadata": {},
   "outputs": [
    {
     "data": {
      "text/plain": [
       "['https://suumo.jp/ms/chuko/tokyo/sc_adachi/nc_71566688/']"
      ]
     },
     "execution_count": 172,
     "metadata": {},
     "output_type": "execute_result"
    }
   ],
   "source": [
    "[df.loc[5, col]]"
   ]
  },
  {
   "cell_type": "code",
   "execution_count": 173,
   "id": "6ea5348c",
   "metadata": {},
   "outputs": [
    {
     "data": {
      "text/plain": [
       "Int64Index([4], dtype='int64')"
      ]
     },
     "execution_count": 173,
     "metadata": {},
     "output_type": "execute_result"
    }
   ],
   "source": [
    "df2.index[df2[col].isin([df.loc[5, col]])]"
   ]
  },
  {
   "cell_type": "code",
   "execution_count": 174,
   "id": "de0b9fd8",
   "metadata": {},
   "outputs": [
    {
     "data": {
      "text/plain": [
       "Int64Index([4], dtype='int64')"
      ]
     },
     "execution_count": 174,
     "metadata": {},
     "output_type": "execute_result"
    }
   ],
   "source": [
    "indices = df2.index[df2[col].isin([df.loc[5, col]])]\n",
    "indices"
   ]
  },
  {
   "cell_type": "code",
   "execution_count": 175,
   "id": "964825da",
   "metadata": {},
   "outputs": [
    {
     "data": {
      "text/plain": [
       "4    2023/2/16\n",
       "Name: date, dtype: object"
      ]
     },
     "execution_count": 175,
     "metadata": {},
     "output_type": "execute_result"
    }
   ],
   "source": [
    "date = df2.loc[indices,'date']\n",
    "date\n"
   ]
  },
  {
   "cell_type": "code",
   "execution_count": 163,
   "id": "52d842d9",
   "metadata": {},
   "outputs": [
    {
     "ename": "KeyError",
     "evalue": "0",
     "output_type": "error",
     "traceback": [
      "\u001b[0;31m---------------------------------------------------------------------------\u001b[0m",
      "\u001b[0;31mKeyError\u001b[0m                                  Traceback (most recent call last)",
      "File \u001b[0;32m~/opt/anaconda3/envs/scrapy_env/lib/python3.8/site-packages/pandas/core/indexes/base.py:3803\u001b[0m, in \u001b[0;36mIndex.get_loc\u001b[0;34m(self, key, method, tolerance)\u001b[0m\n\u001b[1;32m   3802\u001b[0m \u001b[38;5;28;01mtry\u001b[39;00m:\n\u001b[0;32m-> 3803\u001b[0m     \u001b[38;5;28;01mreturn\u001b[39;00m \u001b[38;5;28;43mself\u001b[39;49m\u001b[38;5;241;43m.\u001b[39;49m\u001b[43m_engine\u001b[49m\u001b[38;5;241;43m.\u001b[39;49m\u001b[43mget_loc\u001b[49m\u001b[43m(\u001b[49m\u001b[43mcasted_key\u001b[49m\u001b[43m)\u001b[49m\n\u001b[1;32m   3804\u001b[0m \u001b[38;5;28;01mexcept\u001b[39;00m \u001b[38;5;167;01mKeyError\u001b[39;00m \u001b[38;5;28;01mas\u001b[39;00m err:\n",
      "File \u001b[0;32m~/opt/anaconda3/envs/scrapy_env/lib/python3.8/site-packages/pandas/_libs/index.pyx:138\u001b[0m, in \u001b[0;36mpandas._libs.index.IndexEngine.get_loc\u001b[0;34m()\u001b[0m\n",
      "File \u001b[0;32m~/opt/anaconda3/envs/scrapy_env/lib/python3.8/site-packages/pandas/_libs/index.pyx:165\u001b[0m, in \u001b[0;36mpandas._libs.index.IndexEngine.get_loc\u001b[0;34m()\u001b[0m\n",
      "File \u001b[0;32mpandas/_libs/hashtable_class_helper.pxi:2263\u001b[0m, in \u001b[0;36mpandas._libs.hashtable.Int64HashTable.get_item\u001b[0;34m()\u001b[0m\n",
      "File \u001b[0;32mpandas/_libs/hashtable_class_helper.pxi:2273\u001b[0m, in \u001b[0;36mpandas._libs.hashtable.Int64HashTable.get_item\u001b[0;34m()\u001b[0m\n",
      "\u001b[0;31mKeyError\u001b[0m: 0",
      "\nThe above exception was the direct cause of the following exception:\n",
      "\u001b[0;31mKeyError\u001b[0m                                  Traceback (most recent call last)",
      "Cell \u001b[0;32mIn [163], line 7\u001b[0m\n\u001b[1;32m      5\u001b[0m indices \u001b[38;5;241m=\u001b[39m df2\u001b[38;5;241m.\u001b[39mindex[df2[col]\u001b[38;5;241m.\u001b[39misin([df\u001b[38;5;241m.\u001b[39mloc[i, col]])]\n\u001b[1;32m      6\u001b[0m date \u001b[38;5;241m=\u001b[39m df2\u001b[38;5;241m.\u001b[39mloc[indices,\u001b[38;5;124m'\u001b[39m\u001b[38;5;124mdate\u001b[39m\u001b[38;5;124m'\u001b[39m]\n\u001b[0;32m----> 7\u001b[0m df\u001b[38;5;241m.\u001b[39mloc[i, \u001b[38;5;124m'\u001b[39m\u001b[38;5;124mdate\u001b[39m\u001b[38;5;124m'\u001b[39m] \u001b[38;5;241m=\u001b[39m \u001b[43mdate\u001b[49m\u001b[43m[\u001b[49m\u001b[38;5;241;43m0\u001b[39;49m\u001b[43m]\u001b[49m\n",
      "File \u001b[0;32m~/opt/anaconda3/envs/scrapy_env/lib/python3.8/site-packages/pandas/core/series.py:981\u001b[0m, in \u001b[0;36mSeries.__getitem__\u001b[0;34m(self, key)\u001b[0m\n\u001b[1;32m    978\u001b[0m     \u001b[38;5;28;01mreturn\u001b[39;00m \u001b[38;5;28mself\u001b[39m\u001b[38;5;241m.\u001b[39m_values[key]\n\u001b[1;32m    980\u001b[0m \u001b[38;5;28;01melif\u001b[39;00m key_is_scalar:\n\u001b[0;32m--> 981\u001b[0m     \u001b[38;5;28;01mreturn\u001b[39;00m \u001b[38;5;28;43mself\u001b[39;49m\u001b[38;5;241;43m.\u001b[39;49m\u001b[43m_get_value\u001b[49m\u001b[43m(\u001b[49m\u001b[43mkey\u001b[49m\u001b[43m)\u001b[49m\n\u001b[1;32m    983\u001b[0m \u001b[38;5;28;01mif\u001b[39;00m is_hashable(key):\n\u001b[1;32m    984\u001b[0m     \u001b[38;5;66;03m# Otherwise index.get_value will raise InvalidIndexError\u001b[39;00m\n\u001b[1;32m    985\u001b[0m     \u001b[38;5;28;01mtry\u001b[39;00m:\n\u001b[1;32m    986\u001b[0m         \u001b[38;5;66;03m# For labels that don't resolve as scalars like tuples and frozensets\u001b[39;00m\n",
      "File \u001b[0;32m~/opt/anaconda3/envs/scrapy_env/lib/python3.8/site-packages/pandas/core/series.py:1089\u001b[0m, in \u001b[0;36mSeries._get_value\u001b[0;34m(self, label, takeable)\u001b[0m\n\u001b[1;32m   1086\u001b[0m     \u001b[38;5;28;01mreturn\u001b[39;00m \u001b[38;5;28mself\u001b[39m\u001b[38;5;241m.\u001b[39m_values[label]\n\u001b[1;32m   1088\u001b[0m \u001b[38;5;66;03m# Similar to Index.get_value, but we do not fall back to positional\u001b[39;00m\n\u001b[0;32m-> 1089\u001b[0m loc \u001b[38;5;241m=\u001b[39m \u001b[38;5;28;43mself\u001b[39;49m\u001b[38;5;241;43m.\u001b[39;49m\u001b[43mindex\u001b[49m\u001b[38;5;241;43m.\u001b[39;49m\u001b[43mget_loc\u001b[49m\u001b[43m(\u001b[49m\u001b[43mlabel\u001b[49m\u001b[43m)\u001b[49m\n\u001b[1;32m   1090\u001b[0m \u001b[38;5;28;01mreturn\u001b[39;00m \u001b[38;5;28mself\u001b[39m\u001b[38;5;241m.\u001b[39mindex\u001b[38;5;241m.\u001b[39m_get_values_for_loc(\u001b[38;5;28mself\u001b[39m, loc, label)\n",
      "File \u001b[0;32m~/opt/anaconda3/envs/scrapy_env/lib/python3.8/site-packages/pandas/core/indexes/base.py:3805\u001b[0m, in \u001b[0;36mIndex.get_loc\u001b[0;34m(self, key, method, tolerance)\u001b[0m\n\u001b[1;32m   3803\u001b[0m     \u001b[38;5;28;01mreturn\u001b[39;00m \u001b[38;5;28mself\u001b[39m\u001b[38;5;241m.\u001b[39m_engine\u001b[38;5;241m.\u001b[39mget_loc(casted_key)\n\u001b[1;32m   3804\u001b[0m \u001b[38;5;28;01mexcept\u001b[39;00m \u001b[38;5;167;01mKeyError\u001b[39;00m \u001b[38;5;28;01mas\u001b[39;00m err:\n\u001b[0;32m-> 3805\u001b[0m     \u001b[38;5;28;01mraise\u001b[39;00m \u001b[38;5;167;01mKeyError\u001b[39;00m(key) \u001b[38;5;28;01mfrom\u001b[39;00m \u001b[38;5;21;01merr\u001b[39;00m\n\u001b[1;32m   3806\u001b[0m \u001b[38;5;28;01mexcept\u001b[39;00m \u001b[38;5;167;01mTypeError\u001b[39;00m:\n\u001b[1;32m   3807\u001b[0m     \u001b[38;5;66;03m# If we have a listlike key, _check_indexing_error will raise\u001b[39;00m\n\u001b[1;32m   3808\u001b[0m     \u001b[38;5;66;03m#  InvalidIndexError. Otherwise we fall through and re-raise\u001b[39;00m\n\u001b[1;32m   3809\u001b[0m     \u001b[38;5;66;03m#  the TypeError.\u001b[39;00m\n\u001b[1;32m   3810\u001b[0m     \u001b[38;5;28mself\u001b[39m\u001b[38;5;241m.\u001b[39m_check_indexing_error(key)\n",
      "\u001b[0;31mKeyError\u001b[0m: 0"
     ]
    }
   ],
   "source": [
    "for i, row in df.iterrows():\n",
    "    if i in df_index:\n",
    "        df.loc[i, 'date'] = today\n",
    "    else:\n",
    "        indices = df2.index[df2[col].isin([df.loc[i, col]])]\n",
    "        date = df2.loc[indices,'date']\n",
    "        df.loc[i, 'date'] = date[0]"
   ]
  },
  {
   "cell_type": "code",
   "execution_count": null,
   "id": "821c3d22",
   "metadata": {},
   "outputs": [],
   "source": []
  },
  {
   "cell_type": "code",
   "execution_count": null,
   "id": "188024aa",
   "metadata": {},
   "outputs": [],
   "source": []
  },
  {
   "cell_type": "code",
   "execution_count": null,
   "id": "27e7b01b",
   "metadata": {},
   "outputs": [],
   "source": []
  },
  {
   "cell_type": "code",
   "execution_count": null,
   "id": "01d32c5c",
   "metadata": {},
   "outputs": [],
   "source": []
  }
 ],
 "metadata": {
  "kernelspec": {
   "display_name": "Python 3 (ipykernel)",
   "language": "python",
   "name": "python3"
  },
  "language_info": {
   "codemirror_mode": {
    "name": "ipython",
    "version": 3
   },
   "file_extension": ".py",
   "mimetype": "text/x-python",
   "name": "python",
   "nbconvert_exporter": "python",
   "pygments_lexer": "ipython3",
   "version": "3.8.13"
  }
 },
 "nbformat": 4,
 "nbformat_minor": 5
}
